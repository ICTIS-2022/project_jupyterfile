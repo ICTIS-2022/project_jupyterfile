{
 "cells": [
  {
   "cell_type": "code",
   "execution_count": 2,
   "id": "d724ad9f",
   "metadata": {},
   "outputs": [],
   "source": [
    "from tensorflow.keras.datasets import mnist\n",
    "from tensorflow.keras.models import Sequential\n",
    "from tensorflow.keras.layers import Dense,Dropout,Flatten,Conv2D,MaxPooling2D\n",
    "from tensorflow.keras.callbacks import ModelCheckpoint, EarlyStopping\n",
    "from tensorflow.keras.utils import to_categorical\n",
    "import matplotlib.pyplot as plt\n",
    "import tensorflow as tf\n",
    "import numpy as np\n",
    "import matplotlib.pyplot as plt\n",
    "import seaborn as sns; sns.set()\n",
    "import os\n",
    "import matplotlib.pyplot as plt\n",
    "import cv2\n",
    "import sys\n",
    "import os"
   ]
  },
  {
   "cell_type": "code",
   "execution_count": 11,
   "id": "cac871cb",
   "metadata": {},
   "outputs": [],
   "source": [
    "dir = \"C:/test\""
   ]
  },
  {
   "cell_type": "code",
   "execution_count": 12,
   "id": "662912e8",
   "metadata": {},
   "outputs": [],
   "source": [
    "from tensorflow.keras.preprocessing import image\n",
    "from tensorflow.keras.preprocessing.image import ImageDataGenerator"
   ]
  },
  {
   "cell_type": "code",
   "execution_count": 16,
   "id": "bb344926",
   "metadata": {},
   "outputs": [],
   "source": [
    "train_gen = ImageDataGenerator(rescale= 1/255., #0~1사이의 값으로 정규화                                                                                                                   \n",
    "                               rotation_range=0.2, #random\n",
    "#                                width_shift_range=0.2, #좌우 이동\n",
    "#                                height_shift_range=0.2, #상하 이동\n",
    "#                                zoom_range = 0.2, \n",
    "                               horizontal_flip=True,\n",
    "                               validation_split = 0.02) #2%\n",
    "\n",
    "test_gen = ImageDataGenerator(rescale= 1/255.)"
   ]
  },
  {
   "cell_type": "code",
   "execution_count": 18,
   "id": "ca0a5ada",
   "metadata": {},
   "outputs": [
    {
     "name": "stdout",
     "output_type": "stream",
     "text": [
      "Found 2 images belonging to 1 classes.\n"
     ]
    }
   ],
   "source": [
    "train_data = train_gen.flow_from_directory(dir,\n",
    "                                           target_size = (180,180),\n",
    "                                           class_mode = \"categorical\",\n",
    "                                           seed = 42,\n",
    "                                           subset = \"training\"\n",
    "                                           )\n"
   ]
  },
  {
   "cell_type": "code",
   "execution_count": 15,
   "id": "5c6b2f10",
   "metadata": {},
   "outputs": [
    {
     "data": {
      "text/plain": [
       "['mask']"
      ]
     },
     "execution_count": 15,
     "metadata": {},
     "output_type": "execute_result"
    }
   ],
   "source": [
    "labels = list(train_data.class_indices.keys())\n",
    "\n",
    "labels"
   ]
  },
  {
   "cell_type": "code",
   "execution_count": null,
   "id": "86bdb897",
   "metadata": {},
   "outputs": [],
   "source": [
    "model_evaluation = model.evaluate(test_data)\n",
    "print(f\"Model Accuracy: {model_evaluation[1] * 100 : 0.2f} %\")"
   ]
  },
  {
   "cell_type": "code",
   "execution_count": 10,
   "id": "8a6df557",
   "metadata": {},
   "outputs": [
    {
     "ename": "IndexError",
     "evalue": "index 0 is out of bounds for axis 0 with size 0",
     "output_type": "error",
     "traceback": [
      "\u001b[1;31m---------------------------------------------------------------------------\u001b[0m",
      "\u001b[1;31mIndexError\u001b[0m                                Traceback (most recent call last)",
      "Input \u001b[1;32mIn [10]\u001b[0m, in \u001b[0;36m<cell line: 3>\u001b[1;34m()\u001b[0m\n\u001b[0;32m      4\u001b[0m image,label \u001b[38;5;241m=\u001b[39m train_data\u001b[38;5;241m.\u001b[39mnext()\n\u001b[0;32m      6\u001b[0m plt\u001b[38;5;241m.\u001b[39msubplot(\u001b[38;5;241m1\u001b[39m,\u001b[38;5;241m2\u001b[39m,i\u001b[38;5;241m+\u001b[39m\u001b[38;5;241m1\u001b[39m)\n\u001b[1;32m----> 7\u001b[0m plt\u001b[38;5;241m.\u001b[39mimshow(\u001b[43mimage\u001b[49m\u001b[43m[\u001b[49m\u001b[43mi\u001b[49m\u001b[43m]\u001b[49m)\n\u001b[0;32m      8\u001b[0m plt\u001b[38;5;241m.\u001b[39mtitle(labels[tf\u001b[38;5;241m.\u001b[39margmax(label[i])])\n\u001b[0;32m      9\u001b[0m plt\u001b[38;5;241m.\u001b[39maxis(\u001b[38;5;124m\"\u001b[39m\u001b[38;5;124moff\u001b[39m\u001b[38;5;124m\"\u001b[39m)\n",
      "\u001b[1;31mIndexError\u001b[0m: index 0 is out of bounds for axis 0 with size 0"
     ]
    },
    {
     "data": {
      "image/png": "[encoded data removed]",
      "text/plain": [
       "<Figure size 1152x1152 with 1 Axes>"
      ]
     },
     "metadata": {},
     "output_type": "display_data"
    }
   ],
   "source": [
    "plt.figure(figsize = (16,16))\n",
    "\n",
    "for i in range(2):\n",
    "  image,label = train_data.next()\n",
    "\n",
    "  plt.subplot(1,2,i+1)\n",
    "  plt.imshow(image[i])\n",
    "  plt.title(labels[tf.argmax(label[i])])\n",
    "  plt.axis(\"off\")"
   ]
  }
 ],
 "metadata": {
  "kernelspec": {
   "display_name": "Python 3 (ipykernel)",
   "language": "python",
   "name": "python3"
  },
  "language_info": {
   "codemirror_mode": {
    "name": "ipython",
    "version": 3
   },
   "file_extension": ".py",
   "mimetype": "text/x-python",
   "name": "python",
   "nbconvert_exporter": "python",
   "pygments_lexer": "ipython3",
   "version": "3.8.10"
  }
 },
 "nbformat": 4,
 "nbformat_minor": 5
}
